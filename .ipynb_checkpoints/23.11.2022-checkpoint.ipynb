{
 "cells": [
  {
   "cell_type": "code",
   "execution_count": 7,
   "id": "e94a822b-9a9f-48f7-8823-3ce4fe4a1d56",
   "metadata": {},
   "outputs": [
    {
     "name": "stdout",
     "output_type": "stream",
     "text": [
      "[ 1  2  3  4  5  6  7  8  9 10 11 12 13 14 15 16 17 18 19 20]\n",
      "Length of array= 20\n",
      "x1= [1 2 3 4]\n",
      "x2= [5 6 7 8 9]\n",
      "x3= [10 11 12 13 14 15]\n",
      "x4= [16 17 18 19 20]\n"
     ]
    }
   ],
   "source": [
    "import numpy as np\n",
    "arr=np.array([1,2,3,4,5,6,7,8,9,10,11,12,13,14,15,16,17,18,19,20])\n",
    "print(arr)\n",
    "print(\"Length of array=\",len(arr))\n",
    "y=[4,9,15]\n",
    "x1,x2,x3,x4=np.split(arr,y)\n",
    "print(\"x1=\",x1)\n",
    "print(\"x2=\",x2)\n",
    "print(\"x3=\",x3)\n",
    "print(\"x4=\",x4)"
   ]
  },
  {
   "cell_type": "code",
   "execution_count": 8,
   "id": "99ee81dd-4bad-432f-aa59-e7f48d21770a",
   "metadata": {},
   "outputs": [
    {
     "name": "stdin",
     "output_type": "stream",
     "text": [
      "Enter the String= Ashok Khanna\n"
     ]
    },
    {
     "name": "stdout",
     "output_type": "stream",
     "text": [
      "['Ashok', 'Khanna']\n"
     ]
    }
   ],
   "source": [
    "s=str(input(\"Enter the String=\"))\n",
    "content=s.split(' ')\n",
    "print(content)"
   ]
  },
  {
   "cell_type": "code",
   "execution_count": 9,
   "id": "8009bb82-3057-4948-9e84-97a658ca73c4",
   "metadata": {},
   "outputs": [
    {
     "name": "stdout",
     "output_type": "stream",
     "text": [
      "2\n"
     ]
    }
   ],
   "source": [
    "l=len(content)\n",
    "print(l)"
   ]
  },
  {
   "cell_type": "code",
   "execution_count": 12,
   "id": "23ba5742-0611-48e8-8d54-2da8b80985b6",
   "metadata": {},
   "outputs": [
    {
     "name": "stdin",
     "output_type": "stream",
     "text": [
      "Enter the String= This is a test. This is a test. This is a test. \n"
     ]
    },
    {
     "name": "stdout",
     "output_type": "stream",
     "text": [
      "This is a test\n",
      "\n",
      "\n",
      " This is a test\n",
      "\n",
      "\n",
      " This is a test\n",
      "\n",
      "\n",
      " \n",
      "\n",
      "\n"
     ]
    }
   ],
   "source": [
    "s=str(input(\"Enter the String=\"))\n",
    "content=s.split(\".\")\n",
    "for i in content:\n",
    "    print(i)\n",
    "    print('\\n')"
   ]
  },
  {
   "cell_type": "code",
   "execution_count": null,
   "id": "eec4bcd4-1979-47e4-90a2-e97bead8922b",
   "metadata": {},
   "outputs": [],
   "source": [
    "s=str(input(\"Enter the String=\"))\n",
    "content=s.split(\"-\")\n",
    "for i in range(l):\n",
    "    j=content[i]+'i'\n",
    "    print(j)"
   ]
  }
 ],
 "metadata": {
  "kernelspec": {
   "display_name": "Python 3 (ipykernel)",
   "language": "python",
   "name": "python3"
  },
  "language_info": {
   "codemirror_mode": {
    "name": "ipython",
    "version": 3
   },
   "file_extension": ".py",
   "mimetype": "text/x-python",
   "name": "python",
   "nbconvert_exporter": "python",
   "pygments_lexer": "ipython3",
   "version": "3.11.0"
  }
 },
 "nbformat": 4,
 "nbformat_minor": 5
}
