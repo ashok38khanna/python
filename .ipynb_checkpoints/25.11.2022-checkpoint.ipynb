{
 "cells": [
  {
   "cell_type": "code",
   "execution_count": 4,
   "id": "ad674c61-5c36-48b1-be0d-9ac77dd156fa",
   "metadata": {},
   "outputs": [
    {
     "name": "stdin",
     "output_type": "stream",
     "text": [
      "s1= 12\n",
      "s2= 34\n"
     ]
    },
    {
     "name": "stdout",
     "output_type": "stream",
     "text": [
      "12 34\n"
     ]
    }
   ],
   "source": [
    "s1=str(input(\"s1=\"))\n",
    "s2=str(input(\"s2=\"))\n",
    "s=s1+\" \"+s2 #For providing space between s1 and s2\n",
    "print(s)"
   ]
  },
  {
   "cell_type": "code",
   "execution_count": 2,
   "id": "eb25bd12-9219-4bd0-88e1-e90c74523216",
   "metadata": {},
   "outputs": [
    {
     "name": "stdin",
     "output_type": "stream",
     "text": [
      "s1= 12\n",
      "s2= 34\n"
     ]
    },
    {
     "name": "stdout",
     "output_type": "stream",
     "text": [
      "46\n"
     ]
    }
   ],
   "source": [
    "s1=int(input(\"s1=\"))\n",
    "s2=int(input(\"s2=\"))\n",
    "s=s1+s2\n",
    "print(s)"
   ]
  },
  {
   "cell_type": "code",
   "execution_count": 15,
   "id": "664093ac-d49e-488f-8d4c-2d04c5df65eb",
   "metadata": {},
   "outputs": [
    {
     "name": "stdin",
     "output_type": "stream",
     "text": [
      "Enter the Sentence: Ashok Khanna\n"
     ]
    },
    {
     "name": "stdout",
     "output_type": "stream",
     "text": [
      "  Ashok\n",
      "\n",
      "\n",
      "  Ashok Khanna\n",
      "\n",
      "\n"
     ]
    }
   ],
   "source": [
    "s1=str(input(\"Enter the Sentence:\"))\n",
    "s=s1.split(\" \")\n",
    "line=\" \"\n",
    "for i in s: #datatype of 'i' is string\n",
    "    line=line+\" \"+i\n",
    "    print(line)\n",
    "    print(\"\\n\")"
   ]
  },
  {
   "cell_type": "code",
   "execution_count": null,
   "id": "3338bf78-c969-4585-9359-d4d8958f5f1c",
   "metadata": {},
   "outputs": [],
   "source": []
  }
 ],
 "metadata": {
  "kernelspec": {
   "display_name": "Python 3 (ipykernel)",
   "language": "python",
   "name": "python3"
  },
  "language_info": {
   "codemirror_mode": {
    "name": "ipython",
    "version": 3
   },
   "file_extension": ".py",
   "mimetype": "text/x-python",
   "name": "python",
   "nbconvert_exporter": "python",
   "pygments_lexer": "ipython3",
   "version": "3.11.0"
  }
 },
 "nbformat": 4,
 "nbformat_minor": 5
}
