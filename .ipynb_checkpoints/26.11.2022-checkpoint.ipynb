{
 "cells": [
  {
   "cell_type": "code",
   "execution_count": 6,
   "id": "6baeb36e-e173-4a27-976c-1cdf5768f315",
   "metadata": {},
   "outputs": [
    {
     "name": "stdout",
     "output_type": "stream",
     "text": [
      "[[4, 5, 6], [7, 8, 9]]\n",
      "[[1, 2, 3]]\n"
     ]
    }
   ],
   "source": [
    "arr=[[1,2,3],[4,5,6],[7,8,9]]\n",
    "print(arr[1:])\n",
    "print(arr[:1])"
   ]
  },
  {
   "cell_type": "code",
   "execution_count": 7,
   "id": "974d910a-9e9c-4f81-b174-2e8cef3cd898",
   "metadata": {},
   "outputs": [
    {
     "name": "stdout",
     "output_type": "stream",
     "text": [
      "[[1. 0. 0. 0.]\n",
      " [0. 1. 0. 0.]\n",
      " [0. 0. 1. 0.]\n",
      " [0. 0. 0. 1.]]\n"
     ]
    }
   ],
   "source": [
    "import numpy as np\n",
    "arr=np.zeros((4,4))\n",
    "for i in range(4):\n",
    "    for j in range(4):\n",
    "        if i==j:\n",
    "            arr[i,j]=1\n",
    "print(arr)"
   ]
  },
  {
   "cell_type": "code",
   "execution_count": 8,
   "id": "ce20435c-fe03-4b5a-b158-034a19e4c323",
   "metadata": {},
   "outputs": [
    {
     "name": "stdout",
     "output_type": "stream",
     "text": [
      "[[0. 2. 0. 0.]\n",
      " [0. 2. 0. 0.]\n",
      " [0. 2. 0. 0.]\n",
      " [0. 2. 0. 0.]]\n"
     ]
    }
   ],
   "source": [
    "arr=np.zeros((4,4))\n",
    "for i in range(4):\n",
    "    arr[i,1]=2\n",
    "print(arr)"
   ]
  },
  {
   "cell_type": "code",
   "execution_count": 18,
   "id": "a4fa92e1-8b80-4bfc-969c-ae5362ae0eb6",
   "metadata": {},
   "outputs": [
    {
     "name": "stdout",
     "output_type": "stream",
     "text": [
      "[2, -5, 11, -2, 7, 1]\n"
     ]
    }
   ],
   "source": [
    "arr=[1,7,-2,11,-5,2]\n",
    "l=len(arr)\n",
    "i=0\n",
    "j=l-1\n",
    "while(i<j):\n",
    "    t=arr[i]\n",
    "    arr[i]=arr[j]\n",
    "    arr[j]=t\n",
    "    i=i+1\n",
    "    j=j-1\n",
    "print(arr)"
   ]
  },
  {
   "cell_type": "code",
   "execution_count": null,
   "id": "e8b9e0b5-9a16-4dec-9b51-f557475bba10",
   "metadata": {},
   "outputs": [],
   "source": []
  }
 ],
 "metadata": {
  "kernelspec": {
   "display_name": "Python 3 (ipykernel)",
   "language": "python",
   "name": "python3"
  },
  "language_info": {
   "codemirror_mode": {
    "name": "ipython",
    "version": 3
   },
   "file_extension": ".py",
   "mimetype": "text/x-python",
   "name": "python",
   "nbconvert_exporter": "python",
   "pygments_lexer": "ipython3",
   "version": "3.11.0"
  }
 },
 "nbformat": 4,
 "nbformat_minor": 5
}
