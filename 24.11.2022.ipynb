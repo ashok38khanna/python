{
 "cells": [
  {
   "cell_type": "code",
   "execution_count": 1,
   "id": "e86eb1ae-9f06-47bb-ab0c-36a039bdf8c2",
   "metadata": {},
   "outputs": [
    {
     "name": "stdin",
     "output_type": "stream",
     "text": [
      "Given String= DST\n"
     ]
    },
    {
     "name": "stdout",
     "output_type": "stream",
     "text": [
      "D\n",
      "S\n",
      "T\n"
     ]
    }
   ],
   "source": [
    "s=str(input(\"Given String=\"))\n",
    "for i in s:\n",
    "    print(i)"
   ]
  },
  {
   "cell_type": "code",
   "execution_count": 2,
   "id": "54d1f696-263a-4ca4-8788-f4bcf918d3a7",
   "metadata": {},
   "outputs": [
    {
     "name": "stdin",
     "output_type": "stream",
     "text": [
      "Given String= DST\n"
     ]
    },
    {
     "name": "stdout",
     "output_type": "stream",
     "text": [
      "D\n",
      "S\n",
      "T\n"
     ]
    }
   ],
   "source": [
    "s=str(input(\"Given String=\"))\n",
    "l=len(s)\n",
    "for i in range(l):\n",
    "    print(s[i])"
   ]
  },
  {
   "cell_type": "code",
   "execution_count": 4,
   "id": "c786e310-7b65-4819-adae-a6c6397f4097",
   "metadata": {},
   "outputs": [
    {
     "name": "stdin",
     "output_type": "stream",
     "text": [
      "Given String= Ashok\n",
      "Given String= Khanna\n"
     ]
    },
    {
     "name": "stdout",
     "output_type": "stream",
     "text": [
      "hoknna\n"
     ]
    }
   ],
   "source": [
    "s1=str(input(\"Given String=\"))\n",
    "s2=str(input(\"Given String=\"))\n",
    "p1=s1[2:6]\n",
    "p2=s2[3:8]\n",
    "p=p1+p2\n",
    "print(p)"
   ]
  },
  {
   "cell_type": "code",
   "execution_count": 1,
   "id": "4af3ed08-6023-4837-ae70-c112182d8c8e",
   "metadata": {},
   "outputs": [
    {
     "name": "stdin",
     "output_type": "stream",
     "text": [
      "Enter the Sentence= Ashok Khanna\n"
     ]
    },
    {
     "name": "stdout",
     "output_type": "stream",
     "text": [
      "[5, 6]\n"
     ]
    }
   ],
   "source": [
    "#import numpy as np\n",
    "s=str(input(\"Enter the Sentence=\"))\n",
    "content=s.split(\" \")\n",
    "a=[]\n",
    "for i in content:\n",
    "    l=len(i)\n",
    "    a.append(l)\n",
    "#m=max(a)\n",
    "#print(m)\n",
    "print(a)"
   ]
  },
  {
   "cell_type": "code",
   "execution_count": null,
   "id": "97e8d3ed-cd8a-4add-8791-26b8fddb64cf",
   "metadata": {},
   "outputs": [],
   "source": []
  }
 ],
 "metadata": {
  "kernelspec": {
   "display_name": "Python 3 (ipykernel)",
   "language": "python",
   "name": "python3"
  },
  "language_info": {
   "codemirror_mode": {
    "name": "ipython",
    "version": 3
   },
   "file_extension": ".py",
   "mimetype": "text/x-python",
   "name": "python",
   "nbconvert_exporter": "python",
   "pygments_lexer": "ipython3",
   "version": "3.11.0"
  }
 },
 "nbformat": 4,
 "nbformat_minor": 5
}
