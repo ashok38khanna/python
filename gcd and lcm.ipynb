{
 "cells": [
  {
   "cell_type": "code",
   "execution_count": 1,
   "id": "db01dcfe-996f-4b9f-bbda-0145c8973672",
   "metadata": {},
   "outputs": [
    {
     "name": "stdout",
     "output_type": "stream",
     "text": [
      "12\n"
     ]
    }
   ],
   "source": [
    "import numpy as np\n",
    "def gcd(a,b):\n",
    "    x=max(a,b)\n",
    "    y=min(a,b)\n",
    "    while y>0:\n",
    "        z=x%y\n",
    "        x=y\n",
    "        y=z\n",
    "    return x\n",
    "c=gcd(108,156)\n",
    "print(c)"
   ]
  },
  {
   "cell_type": "code",
   "execution_count": 2,
   "id": "c045ce8b-a9eb-41f6-8577-0e189ddeb520",
   "metadata": {},
   "outputs": [
    {
     "name": "stdout",
     "output_type": "stream",
     "text": [
      "1404\n"
     ]
    }
   ],
   "source": [
    "def lcm(a,b):\n",
    "    c=(a*b)/gcd(a,b)\n",
    "    c=int(c)\n",
    "    return c\n",
    "p=lcm(156,108)\n",
    "print(p)"
   ]
  },
  {
   "cell_type": "code",
   "execution_count": 12,
   "id": "227c90a4-3af8-4d30-857b-5d0cb5496179",
   "metadata": {},
   "outputs": [
    {
     "name": "stdin",
     "output_type": "stream",
     "text": [
      "Array Size= 5\n",
      "Enter Values 1\n",
      "Enter Values 2\n",
      "Enter Values 3\n",
      "Enter Values 4\n",
      "Enter Values 5\n"
     ]
    },
    {
     "name": "stdout",
     "output_type": "stream",
     "text": [
      "[1, 2, 3, 4, 5]\n"
     ]
    },
    {
     "name": "stdin",
     "output_type": "stream",
     "text": [
      "Enter the value to find 4\n"
     ]
    },
    {
     "name": "stdout",
     "output_type": "stream",
     "text": [
      "Flag= 0\n",
      "Flag= 0\n",
      "Flag= 0\n",
      "Flag= 1\n",
      "Flag= 1\n",
      "Value found at 4 :)\n"
     ]
    }
   ],
   "source": [
    "n=int(input(\"Array Size=\"))\n",
    "a=[]\n",
    "for i in range(n):\n",
    "    x=int(input(\"Enter Values\"))\n",
    "    a.append(x)\n",
    "print(a)\n",
    "p=int(input(\"Enter the value to find\"))\n",
    "flag=0\n",
    "for i in range(len(a)):\n",
    "    if a[i]==p:\n",
    "        flag=1\n",
    "        j=i+1\n",
    "    print(\"Flag=\",flag)\n",
    "if flag==1:\n",
    "    print(\"Value found at\",j,\":)\")\n",
    "else:\n",
    "    print(\"Value not found :(\")"
   ]
  },
  {
   "cell_type": "code",
   "execution_count": 13,
   "id": "91d4d74f-6331-4443-9aed-d914c3a8e22a",
   "metadata": {},
   "outputs": [],
   "source": [
    "x=np.max(a) #Finds the maximum element of 'a'\n",
    "y=np.min(a) #Finds the minimum element of 'a'"
   ]
  },
  {
   "cell_type": "code",
   "execution_count": null,
   "id": "6b731986-ed18-42a0-a4e4-e9f43fc5e523",
   "metadata": {},
   "outputs": [],
   "source": []
  }
 ],
 "metadata": {
  "kernelspec": {
   "display_name": "Python 3 (ipykernel)",
   "language": "python",
   "name": "python3"
  },
  "language_info": {
   "codemirror_mode": {
    "name": "ipython",
    "version": 3
   },
   "file_extension": ".py",
   "mimetype": "text/x-python",
   "name": "python",
   "nbconvert_exporter": "python",
   "pygments_lexer": "ipython3",
   "version": "3.11.0"
  }
 },
 "nbformat": 4,
 "nbformat_minor": 5
}
