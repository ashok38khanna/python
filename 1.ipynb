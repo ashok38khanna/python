{
 "cells": [
  {
   "cell_type": "code",
   "execution_count": 1,
   "id": "a54a598b-05fd-4a22-8531-201be47ff616",
   "metadata": {},
   "outputs": [
    {
     "name": "stdout",
     "output_type": "stream",
     "text": [
      "x= [ 0  1  2  3  4  5  6  7  8  9 10 11 12 13 14 15 16 17 18 19 20 21 22 23\n",
      " 24 25 26 27 28 29 30 31 32 33 34 35 36 37 38 39]\n",
      "\n",
      "\n",
      "\n",
      "\n",
      "y= [[ 0  1  2  3]\n",
      " [ 4  5  6  7]\n",
      " [ 8  9 10 11]\n",
      " [12 13 14 15]\n",
      " [16 17 18 19]\n",
      " [20 21 22 23]\n",
      " [24 25 26 27]\n",
      " [28 29 30 31]\n",
      " [32 33 34 35]\n",
      " [36 37 38 39]]\n"
     ]
    }
   ],
   "source": [
    "import numpy as np\n",
    "x=np.arange(40)\n",
    "print(\"x=\",x)\n",
    "print('\\n')\n",
    "print(\"\\n\")\n",
    "y=x.reshape(10,4)\n",
    "print(\"y=\",y)"
   ]
  },
  {
   "cell_type": "markdown",
   "id": "e4d0238a-29b7-4957-bdfe-58986da3e7f6",
   "metadata": {},
   "source": [
    "## import numpy as np\n",
    "\n",
    "a=int(input(\"Enter number of rows:\"))\n",
    "b=int(input(\"Enter number of columns:\"))\n",
    "for i in range(a):\n",
    "    for j in range(b):\n",
    "        x=int(input(\"Enter the element:\"))\n",
    "        arr[i,j]=x\n",
    "print(\"arr=\",arr)"
   ]
  },
  {
   "cell_type": "code",
   "execution_count": null,
   "id": "f0b6ab27-b5d4-443b-8e3f-c898d08988d8",
   "metadata": {},
   "outputs": [],
   "source": []
  }
 ],
 "metadata": {
  "kernelspec": {
   "display_name": "Python 3 (ipykernel)",
   "language": "python",
   "name": "python3"
  },
  "language_info": {
   "codemirror_mode": {
    "name": "ipython",
    "version": 3
   },
   "file_extension": ".py",
   "mimetype": "text/x-python",
   "name": "python",
   "nbconvert_exporter": "python",
   "pygments_lexer": "ipython3",
   "version": "3.11.0"
  }
 },
 "nbformat": 4,
 "nbformat_minor": 5
}
